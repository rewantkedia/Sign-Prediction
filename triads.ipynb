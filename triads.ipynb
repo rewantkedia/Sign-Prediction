{
 "cells": [
  {
   "cell_type": "code",
   "execution_count": 1,
   "metadata": {},
   "outputs": [],
   "source": [
    "import pandas as pd\n",
    "import numpy as np\n",
    "import matplotlib.pyplot as plt\n",
    "import seaborn as sns\n",
    "import networkx as nx"
   ]
  },
  {
   "cell_type": "code",
   "execution_count": 2,
   "metadata": {},
   "outputs": [],
   "source": [
    "df = pd.read_csv('slash.txt',sep='\\t')"
   ]
  },
  {
   "cell_type": "code",
   "execution_count": 3,
   "metadata": {},
   "outputs": [
    {
     "data": {
      "text/plain": [
       " 1    425072\n",
       "-1    124130\n",
       "Name: Sign, dtype: int64"
      ]
     },
     "execution_count": 3,
     "metadata": {},
     "output_type": "execute_result"
    }
   ],
   "source": [
    "df['Sign'].value_counts()"
   ]
  },
  {
   "cell_type": "code",
   "execution_count": 4,
   "metadata": {},
   "outputs": [],
   "source": [
    "G = nx.DiGraph()\n",
    "for index,rows in df.iterrows():\n",
    "    u = rows['FromNodeId']\n",
    "    v = rows['ToNodeId']\n",
    "    s = rows['Sign']\n",
    "    G.add_edge(u,v,sign=s)"
   ]
  },
  {
   "cell_type": "code",
   "execution_count": 5,
   "metadata": {},
   "outputs": [],
   "source": [
    "in_pos = {}\n",
    "in_neg = {}\n",
    "\n",
    "for nodes in G.nodes():\n",
    "    l = list(G.in_edges(nodes,data=True))\n",
    "    pos=[]\n",
    "    neg=[]\n",
    "    for items in l:\n",
    "        if items[2]['sign'] == 1:\n",
    "            pos.append(items[0])\n",
    "        else:\n",
    "            neg.append(items[0])\n",
    "    in_pos[nodes] = pos\n",
    "    in_neg[nodes] = neg\n",
    "\n",
    "\n",
    "\n",
    "\n",
    "out_pos = {}\n",
    "out_neg = {}\n",
    "for nodes in G.nodes():\n",
    "    pos = []\n",
    "    neg = []\n",
    "    l = dict(G[nodes])\n",
    "    for keys in l:\n",
    "        if(l[keys]['sign'] == 1):\n",
    "            pos.append(keys)\n",
    "        else:\n",
    "            neg.append(keys)\n",
    "    out_pos[nodes] = pos\n",
    "    out_neg[nodes] = neg\n",
    "\n",
    "nx.set_node_attributes(G,in_pos,'in_pos')\n",
    "nx.set_node_attributes(G,in_neg,'in_neg')\n",
    "nx.set_node_attributes(G,out_pos,'out_pos')\n",
    "nx.set_node_attributes(G,out_neg,'out_neg')\n"
   ]
  },
  {
   "cell_type": "code",
   "execution_count": 6,
   "metadata": {},
   "outputs": [],
   "source": [
    "uip_vip = {}\n",
    "uip_vin = {}\n",
    "uin_vip = {}\n",
    "uin_vin = {}\n",
    "uip_vop = {}\n",
    "uip_von = {}\n",
    "uin_vop = {}\n",
    "uin_von = {}\n",
    "uop_vip = {}\n",
    "uop_vin = {}\n",
    "uon_vip = {}\n",
    "uon_vin = {}\n",
    "uop_vop = {}\n",
    "uop_von = {}\n",
    "uon_vop = {}\n",
    "uon_von = {}\n",
    "X = dict(G.nodes(data=True))\n",
    "edge_list = list(G.edges())\n",
    "for edge in edge_list:\n",
    "    u = edge[0]\n",
    "    v = edge[1]\n",
    "    uip = in_pos[u]\n",
    "    uin = in_neg[u]\n",
    "    uop = out_pos[u]\n",
    "    uon = out_neg[u]\n",
    "    vip = in_pos[v]\n",
    "    vin = in_neg[v]\n",
    "    vop = out_pos[v]\n",
    "    von = out_neg[v]\n",
    "    \n",
    "    \n",
    "    uip_vipx = len(list(set(uip) & set(vip)))\n",
    "    uip_vinx = len(list(set(uip) & set(vin)))\n",
    "    uin_vipx = len(list(set(uin) & set(vip)))\n",
    "    uin_vinx = len(list(set(uin) & set(vin)))\n",
    "    uip_vopx = len(list(set(uip) & set(vop)))\n",
    "    uip_vonx = len(list(set(uip) & set(von)))\n",
    "    uin_vopx = len(list(set(uin) & set(vop)))\n",
    "    uin_vonx = len(list(set(uin) & set(von)))\n",
    "    uop_vipx = len(list(set(uop) & set(vip)))\n",
    "    uop_vinx = len(list(set(uop) & set(vin)))\n",
    "    uon_vipx = len(list(set(uon) & set(vip)))\n",
    "    uon_vinx = len(list(set(uon) & set(vin)))\n",
    "    uop_vopx = len(list(set(uop) & set(vop)))\n",
    "    uop_vonx = len(list(set(uop) & set(von)))\n",
    "    uon_vopx = len(list(set(uon) & set(vop)))\n",
    "    uon_vonx = len(list(set(uon) & set(von)))\n",
    "    uip_vip[edge]=uip_vipx\n",
    "    uip_vin[edge]=uip_vinx\n",
    "    uin_vip[edge]=uin_vipx\n",
    "    uin_vin[edge]=uin_vinx\n",
    "    uip_vop[edge]=uip_vopx\n",
    "    uip_von[edge]=uip_vonx\n",
    "    uin_vop[edge]=uin_vopx\n",
    "    uin_von[edge]=uin_vonx\n",
    "    uop_vip[edge]=uop_vipx\n",
    "    uop_vin[edge]=uop_vinx\n",
    "    uon_vip[edge]=uon_vipx\n",
    "    uon_vin[edge]=uon_vinx\n",
    "    uop_vop[edge]=uop_vopx\n",
    "    uop_von[edge]=uop_vonx\n",
    "    uon_vop[edge]=uon_vopx\n",
    "    uon_von[edge]=uon_vonx\n",
    "\n",
    "    \n",
    "nx.set_edge_attributes(G,uip_vip,\"uip_vip\")\n",
    "nx.set_edge_attributes(G,uip_vin,\"uip_vin\")\n",
    "nx.set_edge_attributes(G,uin_vip,\"uin_vip\")\n",
    "nx.set_edge_attributes(G,uin_vin,\"uin_vin\")\n",
    "nx.set_edge_attributes(G,uip_vop,\"uip_vop\")\n",
    "nx.set_edge_attributes(G,uip_von,\"uip_von\")\n",
    "nx.set_edge_attributes(G,uin_vop,\"uin_vop\")\n",
    "nx.set_edge_attributes(G,uin_von,\"uin_von\")\n",
    "nx.set_edge_attributes(G,uop_vip,\"uop_vip\")\n",
    "nx.set_edge_attributes(G,uop_vin,\"uop_vin\")\n",
    "nx.set_edge_attributes(G,uon_vip,\"uon_vip\")\n",
    "nx.set_edge_attributes(G,uon_vin,\"uon_vin\")\n",
    "nx.set_edge_attributes(G,uop_vop,\"uop_vop\")\n",
    "nx.set_edge_attributes(G,uop_von,\"uop_von\")\n",
    "nx.set_edge_attributes(G,uon_vop,\"uon_vop\")\n",
    "nx.set_edge_attributes(G,uon_von,\"uon_von\")\n"
   ]
  },
  {
   "cell_type": "code",
   "execution_count": 7,
   "metadata": {},
   "outputs": [
    {
     "name": "stdout",
     "output_type": "stream",
     "text": [
      "sign[edge]=signx\n",
      "uip_vip[edge]=uip_vipx\n",
      "uip_vin[edge]=uip_vinx\n",
      "uin_vip[edge]=uin_vipx\n",
      "uin_vin[edge]=uin_vinx\n",
      "uip_vop[edge]=uip_vopx\n",
      "uip_von[edge]=uip_vonx\n",
      "uin_vop[edge]=uin_vopx\n",
      "uin_von[edge]=uin_vonx\n",
      "uop_vip[edge]=uop_vipx\n",
      "uop_vin[edge]=uop_vinx\n",
      "uon_vip[edge]=uon_vipx\n",
      "uon_vin[edge]=uon_vinx\n",
      "uop_vop[edge]=uop_vopx\n",
      "uop_von[edge]=uop_vonx\n",
      "uon_vop[edge]=uon_vopx\n",
      "uon_von[edge]=uon_vonx\n"
     ]
    }
   ],
   "source": [
    "for keys in (list(G.edges(data=True))[0][2]):\n",
    "    print(keys + \"[edge]=\" +keys + \"x\")"
   ]
  },
  {
   "cell_type": "code",
   "execution_count": 8,
   "metadata": {},
   "outputs": [],
   "source": [
    "df = pd.DataFrame(columns=[\n",
    "'edge',\n",
    "'uip_vip',\n",
    "'uip_vin',\n",
    "'uin_vip',\n",
    "'uin_vin',\n",
    "'uip_vop',\n",
    "'uip_von',\n",
    "'uin_vop',\n",
    "'uin_von',\n",
    "'uop_vip',\n",
    "'uop_vin',\n",
    "'uon_vip',\n",
    "'uon_vin',\n",
    "'uop_vop',\n",
    "'uop_von',\n",
    "'uon_vop',\n",
    "'uon_von',\n",
    "'sign'])"
   ]
  },
  {
   "cell_type": "code",
   "execution_count": 9,
   "metadata": {},
   "outputs": [
    {
     "name": "stdout",
     "output_type": "stream",
     "text": [
      "df['sign']=sign.values()\n",
      "df['uip_vip']=uip_vip.values()\n",
      "df['uip_vin']=uip_vin.values()\n",
      "df['uin_vip']=uin_vip.values()\n",
      "df['uin_vin']=uin_vin.values()\n",
      "df['uip_vop']=uip_vop.values()\n",
      "df['uip_von']=uip_von.values()\n",
      "df['uin_vop']=uin_vop.values()\n",
      "df['uin_von']=uin_von.values()\n",
      "df['uop_vip']=uop_vip.values()\n",
      "df['uop_vin']=uop_vin.values()\n",
      "df['uon_vip']=uon_vip.values()\n",
      "df['uon_vin']=uon_vin.values()\n",
      "df['uop_vop']=uop_vop.values()\n",
      "df['uop_von']=uop_von.values()\n",
      "df['uon_vop']=uon_vop.values()\n",
      "df['uon_von']=uon_von.values()\n"
     ]
    }
   ],
   "source": [
    "for keys in (list(G.edges(data=True))[0][2]):\n",
    "    print(\"df['\" + keys + \"']=\" + keys + \".values()\")"
   ]
  },
  {
   "cell_type": "code",
   "execution_count": 10,
   "metadata": {},
   "outputs": [
    {
     "ename": "KeyboardInterrupt",
     "evalue": "",
     "output_type": "error",
     "traceback": [
      "\u001b[0;31m---------------------------------------------------------------------------\u001b[0m",
      "\u001b[0;31mKeyboardInterrupt\u001b[0m                         Traceback (most recent call last)",
      "\u001b[0;32m<ipython-input-10-b59d23dcf64d>\u001b[0m in \u001b[0;36m<module>\u001b[0;34m()\u001b[0m\n\u001b[1;32m      7\u001b[0m     \u001b[0;32mfor\u001b[0m \u001b[0mitems\u001b[0m \u001b[0;32min\u001b[0m \u001b[0mlist\u001b[0m\u001b[0;34m(\u001b[0m\u001b[0mG\u001b[0m\u001b[0;34m.\u001b[0m\u001b[0min_edges\u001b[0m\u001b[0;34m(\u001b[0m\u001b[0medge\u001b[0m\u001b[0;34m[\u001b[0m\u001b[0;36m0\u001b[0m\u001b[0;34m]\u001b[0m\u001b[0;34m)\u001b[0m\u001b[0;34m)\u001b[0m\u001b[0;34m:\u001b[0m\u001b[0;34m\u001b[0m\u001b[0m\n\u001b[1;32m      8\u001b[0m         \u001b[0minward_i\u001b[0m\u001b[0;34m.\u001b[0m\u001b[0mappend\u001b[0m\u001b[0;34m(\u001b[0m\u001b[0mitems\u001b[0m\u001b[0;34m[\u001b[0m\u001b[0;36m0\u001b[0m\u001b[0;34m]\u001b[0m\u001b[0;34m)\u001b[0m\u001b[0;34m\u001b[0m\u001b[0m\n\u001b[0;32m----> 9\u001b[0;31m     \u001b[0;32mfor\u001b[0m \u001b[0mitems\u001b[0m \u001b[0;32min\u001b[0m \u001b[0mlist\u001b[0m\u001b[0;34m(\u001b[0m\u001b[0mG\u001b[0m\u001b[0;34m.\u001b[0m\u001b[0min_edges\u001b[0m\u001b[0;34m(\u001b[0m\u001b[0medge\u001b[0m\u001b[0;34m[\u001b[0m\u001b[0;36m1\u001b[0m\u001b[0;34m]\u001b[0m\u001b[0;34m)\u001b[0m\u001b[0;34m)\u001b[0m\u001b[0;34m:\u001b[0m\u001b[0;34m\u001b[0m\u001b[0m\n\u001b[0m\u001b[1;32m     10\u001b[0m         \u001b[0minward_j\u001b[0m\u001b[0;34m.\u001b[0m\u001b[0mappend\u001b[0m\u001b[0;34m(\u001b[0m\u001b[0mitems\u001b[0m\u001b[0;34m[\u001b[0m\u001b[0;36m0\u001b[0m\u001b[0;34m]\u001b[0m\u001b[0;34m)\u001b[0m\u001b[0;34m\u001b[0m\u001b[0m\n\u001b[1;32m     11\u001b[0m     \u001b[0;32mfor\u001b[0m \u001b[0mkeys\u001b[0m \u001b[0;32min\u001b[0m \u001b[0mdict\u001b[0m\u001b[0;34m(\u001b[0m\u001b[0mG\u001b[0m\u001b[0;34m[\u001b[0m\u001b[0medge\u001b[0m\u001b[0;34m[\u001b[0m\u001b[0;36m0\u001b[0m\u001b[0;34m]\u001b[0m\u001b[0;34m]\u001b[0m\u001b[0;34m)\u001b[0m\u001b[0;34m:\u001b[0m\u001b[0;34m\u001b[0m\u001b[0m\n",
      "\u001b[0;31mKeyboardInterrupt\u001b[0m: "
     ]
    }
   ],
   "source": [
    "embed = {}\n",
    "for edge in list(G.edges()):\n",
    "    inward_i=[]\n",
    "    inward_j=[]\n",
    "    outward_i=[]\n",
    "    outward_j=[]\n",
    "    for items in list(G.in_edges(edge[0])):\n",
    "        inward_i.append(items[0])\n",
    "    for items in list(G.in_edges(edge[1])):\n",
    "        inward_j.append(items[0])\n",
    "    for keys in dict(G[edge[0]]):\n",
    "        outward_i.append(keys)\n",
    "    for keys in dict(G[edge[1]]):\n",
    "        outward_j.append(keys)\n",
    "    final_i = list(set(inward_i) | set(inward_j))\n",
    "    final_j = list(set(outward_i) | set(outward_j))\n",
    "    final = list(set(final_i) & set(final_j)) \n",
    "    embed[edge] = len(final)"
   ]
  },
  {
   "cell_type": "code",
   "execution_count": null,
   "metadata": {},
   "outputs": [],
   "source": [
    "nx.set_edge_attributes(G,embed,\"embed\")"
   ]
  },
  {
   "cell_type": "code",
   "execution_count": null,
   "metadata": {},
   "outputs": [],
   "source": [
    "uip_vip=nx.get_edge_attributes(G,'uip_vip')\n",
    "uip_vin=nx.get_edge_attributes(G,'uip_vin')\n",
    "uin_vip=nx.get_edge_attributes(G,'uin_vip')\n",
    "uin_vin=nx.get_edge_attributes(G,'uin_vin')\n",
    "uip_vop=nx.get_edge_attributes(G,'uip_vop')\n",
    "uip_von=nx.get_edge_attributes(G,'uip_von')\n",
    "uin_vop=nx.get_edge_attributes(G,'uin_vop')\n",
    "uin_von=nx.get_edge_attributes(G,'uin_von')\n",
    "uop_vip=nx.get_edge_attributes(G,'uop_vip')\n",
    "uop_vin=nx.get_edge_attributes(G,'uop_vin')\n",
    "uon_vip=nx.get_edge_attributes(G,'uon_vip')\n",
    "uon_vin=nx.get_edge_attributes(G,'uon_vin')\n",
    "uop_vop=nx.get_edge_attributes(G,'uop_vop')\n",
    "uop_von=nx.get_edge_attributes(G,'uop_von')\n",
    "uon_vop=nx.get_edge_attributes(G,'uon_vop')\n",
    "uon_von=nx.get_edge_attributes(G,'uon_von')\n",
    "embed = nx.get_edge_attributes(G, 'embed')"
   ]
  },
  {
   "cell_type": "code",
   "execution_count": null,
   "metadata": {},
   "outputs": [],
   "source": [
    "df['edge']=uip_vip.keys()\n",
    "df['uip_vip']=uip_vip.values()\n",
    "df['uip_vin']=uip_vin.values()\n",
    "df['uin_vip']=uin_vip.values()\n",
    "df['uin_vin']=uin_vin.values()\n",
    "df['uip_vop']=uip_vop.values()\n",
    "df['uip_von']=uip_von.values()\n",
    "df['uin_vop']=uin_vop.values()\n",
    "df['uin_von']=uin_von.values()\n",
    "df['uop_vip']=uop_vip.values()\n",
    "df['uop_vin']=uop_vin.values()\n",
    "df['uon_vip']=uon_vip.values()\n",
    "df['uon_vin']=uon_vin.values()\n",
    "df['uop_vop']=uop_vop.values()\n",
    "df['uop_von']=uop_von.values()\n",
    "df['uon_vop']=uon_vop.values()\n",
    "df['uon_von']=uon_von.values()\n",
    "df['embed'] = embed.values()\n",
    "signCol=nx.get_edge_attributes(G,'sign')\n",
    "df['sign'] = signCol.values()\n"
   ]
  },
  {
   "cell_type": "code",
   "execution_count": null,
   "metadata": {},
   "outputs": [],
   "source": [
    "df"
   ]
  },
  {
   "cell_type": "code",
   "execution_count": null,
   "metadata": {},
   "outputs": [],
   "source": [
    "from sklearn.model_selection import train_test_split\n",
    "X = df.drop(['edge','sign','embed'],axis=1)\n",
    "y = df['sign']\n",
    "\n",
    "X_train,X_test,y_train,y_test = train_test_split(X,y,test_size=0.2,random_state=0)"
   ]
  },
  {
   "cell_type": "code",
   "execution_count": null,
   "metadata": {},
   "outputs": [],
   "source": [
    "from sklearn.linear_model import LinearRegression\n",
    "from sklearn.neural_network import MLPClassifier\n",
    "from sklearn.linear_model import LogisticRegression\n",
    "from sklearn.tree import DecisionTreeClassifier"
   ]
  },
  {
   "cell_type": "code",
   "execution_count": null,
   "metadata": {},
   "outputs": [],
   "source": [
    "lr = LogisticRegression()\n",
    "lr.fit(X_train,y_train)\n",
    "pred = lr.predict(X_test)\n",
    "lr.score(X_test,y_test)"
   ]
  },
  {
   "cell_type": "code",
   "execution_count": null,
   "metadata": {},
   "outputs": [],
   "source": [
    "from sklearn.metrics import confusion_matrix\n",
    "confusion_matrix(y_test,pred)"
   ]
  },
  {
   "cell_type": "code",
   "execution_count": 19,
   "metadata": {},
   "outputs": [
    {
     "data": {
      "text/plain": [
       "0.818219062098852"
      ]
     },
     "execution_count": 19,
     "metadata": {},
     "output_type": "execute_result"
    }
   ],
   "source": [
    "ann = MLPClassifier()\n",
    "ann.fit(X_train,y_train)\n",
    "ann.score(X_test,y_test)"
   ]
  },
  {
   "cell_type": "code",
   "execution_count": 22,
   "metadata": {},
   "outputs": [
    {
     "data": {
      "text/plain": [
       "0.8093790114802305"
      ]
     },
     "execution_count": 22,
     "metadata": {},
     "output_type": "execute_result"
    }
   ],
   "source": [
    "dt = DecisionTreeClassifier()\n",
    "dt.fit(X_train,y_train)\n",
    "dt.score(X_test,y_test)"
   ]
  },
  {
   "cell_type": "code",
   "execution_count": 23,
   "metadata": {},
   "outputs": [
    {
     "ename": "ModuleNotFoundError",
     "evalue": "No module named 'xgboost'",
     "output_type": "error",
     "traceback": [
      "\u001b[0;31m---------------------------------------------------------------------------\u001b[0m",
      "\u001b[0;31mModuleNotFoundError\u001b[0m                       Traceback (most recent call last)",
      "\u001b[0;32m<ipython-input-23-7890a51da506>\u001b[0m in \u001b[0;36m<module>\u001b[0;34m()\u001b[0m\n\u001b[0;32m----> 1\u001b[0;31m \u001b[0;32mimport\u001b[0m \u001b[0mxgboost\u001b[0m \u001b[0;32mas\u001b[0m \u001b[0mxgb\u001b[0m\u001b[0;34m\u001b[0m\u001b[0m\n\u001b[0m\u001b[1;32m      2\u001b[0m \u001b[0mxg\u001b[0m \u001b[0;34m=\u001b[0m \u001b[0mxgb\u001b[0m\u001b[0;34m.\u001b[0m\u001b[0mXGBClassifier\u001b[0m\u001b[0;34m(\u001b[0m\u001b[0;34m)\u001b[0m\u001b[0;34m\u001b[0m\u001b[0m\n\u001b[1;32m      3\u001b[0m \u001b[0mxg\u001b[0m\u001b[0;34m.\u001b[0m\u001b[0mfit\u001b[0m\u001b[0;34m(\u001b[0m\u001b[0mX_train\u001b[0m\u001b[0;34m,\u001b[0m\u001b[0my_train\u001b[0m\u001b[0;34m)\u001b[0m\u001b[0;34m\u001b[0m\u001b[0m\n\u001b[1;32m      4\u001b[0m \u001b[0mxg\u001b[0m\u001b[0;34m.\u001b[0m\u001b[0mscore\u001b[0m\u001b[0;34m(\u001b[0m\u001b[0mX_test\u001b[0m\u001b[0;34m,\u001b[0m\u001b[0my_test\u001b[0m\u001b[0;34m)\u001b[0m\u001b[0;34m\u001b[0m\u001b[0m\n",
      "\u001b[0;31mModuleNotFoundError\u001b[0m: No module named 'xgboost'"
     ]
    }
   ],
   "source": [
    "import xgboost as xgb\n",
    "xg = xgb.XGBClassifier()\n",
    "xg.fit(X_train,y_train)\n",
    "xg.score(X_test,y_test)"
   ]
  },
  {
   "cell_type": "code",
   "execution_count": 82,
   "metadata": {},
   "outputs": [],
   "source": [
    "#VARYING EMBEDDEDNESS TO IMPROVE LEARNING\n",
    "\n",
    "# df = df.loc[df.embed>=25]\n",
    "\n",
    "# from sklearn.model_selection import train_test_split\n",
    "# X = df.drop(['edge','sign','embed'],axis=1)\n",
    "# y = df['sign']\n",
    "\n",
    "# X_train,X_test,y_train,y_test = train_test_split(X,y,test_size=0.2,random_state=0)\n",
    "\n",
    "# lr = LogisticRegression()\n",
    "# lr.fit(X_train,y_train)\n",
    "# pred = lr.predict(X_test)\n",
    "# lr.score(X_test,y_test)\n",
    "\n",
    "# df = df.loc[df.embed>=10]\n",
    "# df.shape\n",
    "\n",
    "# from sklearn.model_selection import train_test_split\n",
    "# X = df.drop(['edge','sign','embed'],axis=1)\n",
    "# y = df['sign']\n",
    "\n",
    "# X_train,X_test,y_train,y_test = train_test_split(X,y,test_size=0.2,random_state=0)\n",
    "\n",
    "# lr = LogisticRegression()\n",
    "# lr.fit(X_train,y_train)\n",
    "# pred = lr.predict(X_test)\n",
    "# lr.score(X_test,y_test)"
   ]
  },
  {
   "cell_type": "markdown",
   "metadata": {},
   "source": []
  },
  {
   "cell_type": "code",
   "execution_count": 25,
   "metadata": {},
   "outputs": [],
   "source": [
    "\n",
    "from sklearn.model_selection import KFold\n",
    "kf = KFold(n_splits=10)\n",
    "\n",
    "for train_index, test_index in kf.split(X,y):\n",
    "    #print(\"TRAIN:\", train_index, \"TEST:\", test_index)\n",
    "    X_train, X_test = X.iloc[train_index], X.iloc[test_index]\n",
    "    y_train, y_test = y.iloc[train_index], y.iloc[test_index]\n",
    "    lr = LogisticRegression()\n",
    "    lr.fit(X_train,y_train)\n",
    "    pred = lr.predict(X_test)\n",
    "    print(lr.score(X_test,y_test))"
   ]
  },
  {
   "cell_type": "code",
   "execution_count": 30,
   "metadata": {},
   "outputs": [
    {
     "data": {
      "text/plain": [
       "0.8059103613404831"
      ]
     },
     "execution_count": 30,
     "metadata": {},
     "output_type": "execute_result"
    }
   ],
   "source": [
    "lr = LogisticRegression()\n",
    "lr.fit(X_train,y_train)\n",
    "pred = lr.predict(X_test)\n",
    "lr.score(X_test,y_test)"
   ]
  },
  {
   "cell_type": "code",
   "execution_count": 28,
   "metadata": {},
   "outputs": [
    {
     "data": {
      "text/plain": [
       "array([[  449,  6773],\n",
       "       [  157, 47541]])"
      ]
     },
     "execution_count": 28,
     "metadata": {},
     "output_type": "execute_result"
    }
   ],
   "source": [
    "from sklearn.metrics import confusion_matrix\n",
    "confusion_matrix(y_test,pred)\n"
   ]
  },
  {
   "cell_type": "code",
   "execution_count": 173,
   "metadata": {},
   "outputs": [
    {
     "data": {
      "text/plain": [
       "(54920, 16)"
      ]
     },
     "execution_count": 173,
     "metadata": {},
     "output_type": "execute_result"
    }
   ],
   "source": [
    "X_test.shape"
   ]
  },
  {
   "cell_type": "code",
   "execution_count": null,
   "metadata": {},
   "outputs": [],
   "source": [
    "coefficients = pd.concat([pd.DataFrame(X.columns),pd.DataFrame(np.transpose(logistic.coef_))], axis = 1)\n"
   ]
  }
 ],
 "metadata": {
  "kernelspec": {
   "display_name": "Python 3",
   "language": "python",
   "name": "python3"
  },
  "language_info": {
   "codemirror_mode": {
    "name": "ipython",
    "version": 3
   },
   "file_extension": ".py",
   "mimetype": "text/x-python",
   "name": "python",
   "nbconvert_exporter": "python",
   "pygments_lexer": "ipython3",
   "version": "3.7.0"
  }
 },
 "nbformat": 4,
 "nbformat_minor": 2
}
