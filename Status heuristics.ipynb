{
 "cells": [
  {
   "cell_type": "code",
   "execution_count": 2,
   "metadata": {},
   "outputs": [],
   "source": [
    "import pandas as pd\n",
    "import numpy as np\n",
    "import matplotlib.pyplot as plt\n",
    "import seaborn as sns\n",
    "import networkx as nx"
   ]
  },
  {
   "cell_type": "code",
   "execution_count": 4,
   "metadata": {},
   "outputs": [],
   "source": [
    "df = pd.read_csv('slash.txt',sep='\\t')\n"
   ]
  },
  {
   "cell_type": "code",
   "execution_count": 5,
   "metadata": {},
   "outputs": [],
   "source": [
    "G = nx.DiGraph()\n",
    "for index,rows in df.iterrows():\n",
    "    u = rows['FromNodeId']\n",
    "    v = rows['ToNodeId']\n",
    "    s = rows['Sign']\n",
    "    G.add_edge(u,v,sign=s)"
   ]
  },
  {
   "cell_type": "code",
   "execution_count": 6,
   "metadata": {},
   "outputs": [],
   "source": [
    "in_pos = {}\n",
    "in_neg = {}\n",
    "for nodes in G.nodes():\n",
    "    l = list(G.in_edges(nodes,data=True))\n",
    "    pos = 0\n",
    "    neg = 0\n",
    "    for items in l:\n",
    "        if items[2]['sign'] == 1:\n",
    "            pos += 1\n",
    "        else:\n",
    "            neg += 1\n",
    "    in_pos[nodes] = pos\n",
    "    in_neg[nodes] = neg"
   ]
  },
  {
   "cell_type": "code",
   "execution_count": 7,
   "metadata": {},
   "outputs": [],
   "source": [
    "nx.set_node_attributes(G,in_pos,'in_pos')\n",
    "nx.set_node_attributes(G,in_neg,'in_neg')\n"
   ]
  },
  {
   "cell_type": "code",
   "execution_count": 8,
   "metadata": {},
   "outputs": [],
   "source": [
    "out_pos = {}\n",
    "out_neg = {}\n",
    "for nodes in G.nodes():\n",
    "    pos = 0\n",
    "    neg = 0\n",
    "    l = dict(G[nodes])\n",
    "    for keys in l:\n",
    "        if(l[keys]['sign'] == 1):\n",
    "            pos += 1\n",
    "        else:\n",
    "            neg += 1\n",
    "    out_pos[nodes] = pos\n",
    "    out_neg[nodes] = neg"
   ]
  },
  {
   "cell_type": "code",
   "execution_count": 9,
   "metadata": {},
   "outputs": [
    {
     "data": {
      "text/plain": [
       "{'in_pos': 199, 'in_neg': 29}"
      ]
     },
     "execution_count": 9,
     "metadata": {},
     "output_type": "execute_result"
    }
   ],
   "source": []
  },
  {
   "cell_type": "code",
   "execution_count": 11,
   "metadata": {},
   "outputs": [
    {
     "data": {
      "text/plain": [
       "{'in_pos': 199, 'in_neg': 29, 'out_pos': 24, 'out_neg': 5}"
      ]
     },
     "execution_count": 11,
     "metadata": {},
     "output_type": "execute_result"
    }
   ],
   "source": [
    "nx.set_node_attributes(G,out_pos,'out_pos')\n",
    "nx.set_node_attributes(G,out_neg,'out_neg')\n"
   ]
  },
  {
   "cell_type": "code",
   "execution_count": 88,
   "metadata": {},
   "outputs": [
    {
     "data": {
      "text/plain": [
       "93"
      ]
     },
     "execution_count": 88,
     "metadata": {},
     "output_type": "execute_result"
    }
   ],
   "source": [
    "status_heuristics = {}\n",
    "for node in Nodes:\n",
    "    status_heuristics[node[0]] = node[1][\"in_pos\"] + node[1][\"out_neg\"]- node[1][\"in_neg\"] - node[1][\"out_pos\"]\n",
    "    \n",
    "nx.set_node_attributes(G, status_heuristics, 'status_heuristics')\n",
    "Nodes = G.nodes(data = True)\n",
    "Nodes[4]['status_heuristics']"
   ]
  },
  {
   "cell_type": "code",
   "execution_count": 89,
   "metadata": {},
   "outputs": [
    {
     "ename": "KeyboardInterrupt",
     "evalue": "",
     "output_type": "error",
     "traceback": [
      "\u001b[0;31m---------------------------------------------------------------------------\u001b[0m",
      "\u001b[0;31mKeyboardInterrupt\u001b[0m                         Traceback (most recent call last)",
      "\u001b[0;32m<ipython-input-89-b59d23dcf64d>\u001b[0m in \u001b[0;36m<module>\u001b[0;34m()\u001b[0m\n\u001b[1;32m     15\u001b[0m     \u001b[0mfinal_i\u001b[0m \u001b[0;34m=\u001b[0m \u001b[0mlist\u001b[0m\u001b[0;34m(\u001b[0m\u001b[0mset\u001b[0m\u001b[0;34m(\u001b[0m\u001b[0minward_i\u001b[0m\u001b[0;34m)\u001b[0m \u001b[0;34m|\u001b[0m \u001b[0mset\u001b[0m\u001b[0;34m(\u001b[0m\u001b[0minward_j\u001b[0m\u001b[0;34m)\u001b[0m\u001b[0;34m)\u001b[0m\u001b[0;34m\u001b[0m\u001b[0m\n\u001b[1;32m     16\u001b[0m     \u001b[0mfinal_j\u001b[0m \u001b[0;34m=\u001b[0m \u001b[0mlist\u001b[0m\u001b[0;34m(\u001b[0m\u001b[0mset\u001b[0m\u001b[0;34m(\u001b[0m\u001b[0moutward_i\u001b[0m\u001b[0;34m)\u001b[0m \u001b[0;34m|\u001b[0m \u001b[0mset\u001b[0m\u001b[0;34m(\u001b[0m\u001b[0moutward_j\u001b[0m\u001b[0;34m)\u001b[0m\u001b[0;34m)\u001b[0m\u001b[0;34m\u001b[0m\u001b[0m\n\u001b[0;32m---> 17\u001b[0;31m     \u001b[0mfinal\u001b[0m \u001b[0;34m=\u001b[0m \u001b[0mlist\u001b[0m\u001b[0;34m(\u001b[0m\u001b[0mset\u001b[0m\u001b[0;34m(\u001b[0m\u001b[0mfinal_i\u001b[0m\u001b[0;34m)\u001b[0m \u001b[0;34m&\u001b[0m \u001b[0mset\u001b[0m\u001b[0;34m(\u001b[0m\u001b[0mfinal_j\u001b[0m\u001b[0;34m)\u001b[0m\u001b[0;34m)\u001b[0m\u001b[0;34m\u001b[0m\u001b[0m\n\u001b[0m\u001b[1;32m     18\u001b[0m     \u001b[0membed\u001b[0m\u001b[0;34m[\u001b[0m\u001b[0medge\u001b[0m\u001b[0;34m]\u001b[0m \u001b[0;34m=\u001b[0m \u001b[0mlen\u001b[0m\u001b[0;34m(\u001b[0m\u001b[0mfinal\u001b[0m\u001b[0;34m)\u001b[0m\u001b[0;34m\u001b[0m\u001b[0m\n",
      "\u001b[0;31mKeyboardInterrupt\u001b[0m: "
     ]
    }
   ],
   "source": [
    "embed = {}\n",
    "for edge in list(G.edges()):\n",
    "    inward_i=[]\n",
    "    inward_j=[]\n",
    "    outward_i=[]\n",
    "    outward_j=[]\n",
    "    for items in list(G.in_edges(edge[0])):\n",
    "        inward_i.append(items[0])\n",
    "    for items in list(G.in_edges(edge[1])):\n",
    "        inward_j.append(items[0])\n",
    "    for keys in dict(G[edge[0]]):\n",
    "        outward_i.append(keys)\n",
    "    for keys in dict(G[edge[1]]):\n",
    "        outward_j.append(keys)\n",
    "    final_i = list(set(inward_i) | set(inward_j))\n",
    "    final_j = list(set(outward_i) | set(outward_j))\n",
    "    final = list(set(final_i) & set(final_j)) \n",
    "    embed[edge] = len(final)"
   ]
  },
  {
   "cell_type": "code",
   "execution_count": 43,
   "metadata": {},
   "outputs": [],
   "source": [
    "nx.set_edge_attributes(G,embed,\"embed\")"
   ]
  },
  {
   "cell_type": "code",
   "execution_count": 106,
   "metadata": {},
   "outputs": [],
   "source": [
    "pred_sign = {} \n",
    "count = 0;\n",
    "for edge in list(G.edges()):\n",
    "    u = edge[0];\n",
    "    v = edge[1];\n",
    "    \n",
    "    x = Nodes[u]['status_heuristics']\n",
    "    y = Nodes[v]['status_heuristics']\n",
    "    if x<=y:\n",
    "        pred_sign[edge] = 1\n",
    "        count+=1;\n",
    "        \n",
    "    else:\n",
    "        pred_sign[edge] = -1\n",
    "        \n"
   ]
  },
  {
   "cell_type": "code",
   "execution_count": null,
   "metadata": {},
   "outputs": [],
   "source": []
  },
  {
   "cell_type": "code",
   "execution_count": 107,
   "metadata": {},
   "outputs": [],
   "source": [
    "nx.set_edge_attributes(G, pred_sign, 'status_sign')"
   ]
  },
  {
   "cell_type": "code",
   "execution_count": 108,
   "metadata": {},
   "outputs": [],
   "source": [
    "x = []\n",
    "x_pred = []\n",
    "for edge in G.edges(data=True):\n",
    "    x.append(edge[2]['sign'])\n",
    "    x_pred.append(edge[2]['status_sign'])"
   ]
  },
  {
   "cell_type": "code",
   "execution_count": null,
   "metadata": {},
   "outputs": [],
   "source": []
  },
  {
   "cell_type": "code",
   "execution_count": 109,
   "metadata": {},
   "outputs": [],
   "source": [
    "stat_diff = nx.get_edge_attributes(G,'status_sign')\n",
    "sign = nx.get_edge_attributes(G,'sign')\n",
    "embed = nx.get_edge_attributes(G,'embed')\n",
    "\n",
    "df = pd.DataFrame(columns=['edge', \"stat_diff\", 'sign', 'embed'])"
   ]
  },
  {
   "cell_type": "code",
   "execution_count": 110,
   "metadata": {},
   "outputs": [],
   "source": [
    "df['edge'] = embed.keys()\n",
    "df['stat_diff'] = stat_diff.values()\n",
    "df['sign'] = sign.values()\n",
    "df['embed'] = embed.values()"
   ]
  },
  {
   "cell_type": "code",
   "execution_count": 111,
   "metadata": {},
   "outputs": [],
   "source": [
    "y_pred = df[\"stat_diff\"]\n",
    "\n",
    "\n",
    "\n",
    "\n",
    "\n",
    "\n",
    "\n",
    "\n",
    "\n",
    "\n",
    "\n",
    "\n",
    "y = df[\"sign\"]"
   ]
  },
  {
   "cell_type": "code",
   "execution_count": 113,
   "metadata": {},
   "outputs": [
    {
     "data": {
      "text/plain": [
       "0.7642397514939858"
      ]
     },
     "execution_count": 113,
     "metadata": {},
     "output_type": "execute_result"
    }
   ],
   "source": [
    "from sklearn.metrics import accuracy_score\n",
    "accuracy_score( y,y_pred)"
   ]
  },
  {
   "cell_type": "code",
   "execution_count": 124,
   "metadata": {},
   "outputs": [
    {
     "data": {
      "text/plain": [
       "0.6843890144916793"
      ]
     },
     "execution_count": 124,
     "metadata": {},
     "output_type": "execute_result"
    }
   ],
   "source": [
    "df1 = df.loc[df['embed']>25]\n",
    "y_pred = df1[\"stat_diff\"]\n",
    "y = df1[\"sign\"]\n",
    "\n",
    "accuracy_score( y,y_pred)"
   ]
  },
  {
   "cell_type": "code",
   "execution_count": null,
   "metadata": {},
   "outputs": [],
   "source": []
  },
  {
   "cell_type": "code",
   "execution_count": null,
   "metadata": {},
   "outputs": [],
   "source": []
  },
  {
   "cell_type": "code",
   "execution_count": null,
   "metadata": {},
   "outputs": [],
   "source": []
  },
  {
   "cell_type": "code",
   "execution_count": null,
   "metadata": {},
   "outputs": [],
   "source": []
  }
 ],
 "metadata": {
  "kernelspec": {
   "display_name": "Python 3",
   "language": "python",
   "name": "python3"
  },
  "language_info": {
   "codemirror_mode": {
    "name": "ipython",
    "version": 3
   },
   "file_extension": ".py",
   "mimetype": "text/x-python",
   "name": "python",
   "nbconvert_exporter": "python",
   "pygments_lexer": "ipython3",
   "version": "3.7.0"
  }
 },
 "nbformat": 4,
 "nbformat_minor": 2
}
