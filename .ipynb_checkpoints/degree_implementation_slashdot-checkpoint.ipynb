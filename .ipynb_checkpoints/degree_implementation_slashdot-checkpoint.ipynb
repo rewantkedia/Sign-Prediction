{
 "cells": [
  {
   "cell_type": "code",
   "execution_count": 9,
   "metadata": {},
   "outputs": [],
   "source": [
    "import pandas as pd\n",
    "import numpy as np\n",
    "import matplotlib.pyplot as plt\n",
    "import seaborn as sns\n",
    "import networkx as nx"
   ]
  },
  {
   "cell_type": "code",
   "execution_count": 10,
   "metadata": {},
   "outputs": [],
   "source": [
    "df = pd.read_csv('slash.txt',sep='\\t')"
   ]
  },
  {
   "cell_type": "code",
   "execution_count": 11,
   "metadata": {},
   "outputs": [
    {
     "data": {
      "text/plain": [
       " 1    425072\n",
       "-1    124130\n",
       "Name: Sign, dtype: int64"
      ]
     },
     "execution_count": 11,
     "metadata": {},
     "output_type": "execute_result"
    }
   ],
   "source": [
    "df['Sign'].value_counts()"
   ]
  },
  {
   "cell_type": "code",
   "execution_count": 12,
   "metadata": {},
   "outputs": [
    {
     "data": {
      "text/plain": [
       "Index(['FromNodeId', 'ToNodeId', 'Sign'], dtype='object')"
      ]
     },
     "execution_count": 12,
     "metadata": {},
     "output_type": "execute_result"
    }
   ],
   "source": [
    "df.columns"
   ]
  },
  {
   "cell_type": "code",
   "execution_count": 13,
   "metadata": {},
   "outputs": [],
   "source": [
    "G = nx.DiGraph()"
   ]
  },
  {
   "cell_type": "code",
   "execution_count": 14,
   "metadata": {},
   "outputs": [],
   "source": [
    "for index,rows in df.iterrows():\n",
    "    u = rows['FromNodeId']\n",
    "    v = rows['ToNodeId']\n",
    "    s = rows['Sign']\n",
    "    G.add_edge(u,v,sign=s)"
   ]
  },
  {
   "cell_type": "code",
   "execution_count": 15,
   "metadata": {},
   "outputs": [],
   "source": [
    "in_pos = {}\n",
    "in_neg = {}\n",
    "for nodes in G.nodes():\n",
    "    l = list(G.in_edges(nodes,data=True))\n",
    "    pos = 0\n",
    "    neg = 0\n",
    "    for items in l:\n",
    "        if items[2]['sign'] == 1:\n",
    "            pos += 1\n",
    "        else:\n",
    "            neg += 1\n",
    "    in_pos[nodes] = pos\n",
    "    in_neg[nodes] = neg"
   ]
  },
  {
   "cell_type": "code",
   "execution_count": null,
   "metadata": {},
   "outputs": [],
   "source": []
  },
  {
   "cell_type": "code",
   "execution_count": 16,
   "metadata": {},
   "outputs": [],
   "source": [
    "nx.set_node_attributes(G,in_pos,'in_pos')"
   ]
  },
  {
   "cell_type": "code",
   "execution_count": 17,
   "metadata": {},
   "outputs": [],
   "source": [
    "nx.set_node_attributes(G,in_neg,'in_neg')"
   ]
  },
  {
   "cell_type": "code",
   "execution_count": 18,
   "metadata": {},
   "outputs": [],
   "source": [
    "out_pos = {}\n",
    "out_neg = {}\n",
    "for nodes in G.nodes():\n",
    "    pos = 0\n",
    "    neg = 0\n",
    "    l = dict(G[nodes])\n",
    "    for keys in l:\n",
    "        if(l[keys]['sign'] == 1):\n",
    "            pos += 1\n",
    "        else:\n",
    "            neg += 1\n",
    "    out_pos[nodes] = pos\n",
    "    out_neg[nodes] = neg"
   ]
  },
  {
   "cell_type": "code",
   "execution_count": 19,
   "metadata": {},
   "outputs": [],
   "source": [
    "nx.set_node_attributes(G,out_pos,'out_pos')\n",
    "nx.set_node_attributes(G,out_neg,'out_neg')"
   ]
  },
  {
   "cell_type": "code",
   "execution_count": 20,
   "metadata": {},
   "outputs": [],
   "source": [
    "embed = {}\n",
    "for edge in list(G.edges()):\n",
    "    inward_i=[]\n",
    "    inward_j=[]\n",
    "    outward_i=[]\n",
    "    outward_j=[]\n",
    "    for items in list(G.in_edges(edge[0])):\n",
    "        inward_i.append(items[0])\n",
    "    for items in list(G.in_edges(edge[1])):\n",
    "        inward_j.append(items[0])\n",
    "    for keys in dict(G[edge[0]]):\n",
    "        outward_i.append(keys)\n",
    "    for keys in dict(G[edge[1]]):\n",
    "        outward_j.append(keys)\n",
    "    final_i = list(set(inward_i) | set(inward_j))\n",
    "    final_j = list(set(outward_i) | set(outward_j))\n",
    "    final = list(set(final_i) & set(final_j)) \n",
    "    embed[edge] = len(final)"
   ]
  },
  {
   "cell_type": "code",
   "execution_count": 21,
   "metadata": {},
   "outputs": [],
   "source": [
    "nx.set_edge_attributes(G,embed,\"embed\")"
   ]
  },
  {
   "cell_type": "code",
   "execution_count": 22,
   "metadata": {},
   "outputs": [],
   "source": [
    "dplus_in_v = {}\n",
    "dminus_in_v = {}\n",
    "dplus_out_u = {}\n",
    "dminus_out_u = {}\n",
    "total_out_u = {}\n",
    "total_in_v = {}\n",
    "X = dict(G.nodes(data=True))\n",
    "for edge in list(G.edges()):\n",
    "    dplus_in_v[edge] = X[edge[1]]['in_pos']\n",
    "    dminus_in_v[edge] = X[edge[1]]['in_neg']\n",
    "    dplus_out_u[edge] = X[edge[0]]['out_pos']\n",
    "    dminus_out_u[edge] = X[edge[0]]['out_neg']\n",
    "    total_out_u[edge] = dplus_out_u[edge]+dminus_out_u[edge]\n",
    "    total_in_v[edge] = dplus_in_v[edge]+dminus_in_v[edge]\n",
    "nx.set_edge_attributes(G,dplus_in_v,\"dplus_in_v\")\n",
    "nx.set_edge_attributes(G,dminus_in_v,\"dminus_in_v\")\n",
    "nx.set_edge_attributes(G,dplus_out_u,\"dplus_out_u\")\n",
    "nx.set_edge_attributes(G,dminus_out_u,\"dminus_out_u\")\n",
    "nx.set_edge_attributes(G,total_out_u,\"total_out_u\")\n",
    "nx.set_edge_attributes(G,total_in_v,\"total_in_v\")"
   ]
  },
  {
   "cell_type": "code",
   "execution_count": 26,
   "metadata": {},
   "outputs": [],
   "source": [
    "df = pd.DataFrame(columns=['edge','dplus_in_v','dminus_in_v','dplus_out_u','dminus_out_u','total_out_u','total_in_v','embed','sign'])"
   ]
  },
  {
   "cell_type": "code",
   "execution_count": 36,
   "metadata": {},
   "outputs": [],
   "source": [
    "dplus_in_v=nx.get_edge_attributes(G,'dplus_in_v')\n",
    "dminus_in_v=nx.get_edge_attributes(G,'dminus_in_v')\n",
    "dplus_out_u=nx.get_edge_attributes(G,'dplus_out_u')\n",
    "dminus_out_u=nx.get_edge_attributes(G,'dminus_out_u')\n",
    "embed=nx.get_edge_attributes(G,'embed')\n",
    "\n",
    "total_out_u=nx.get_edge_attributes(G,'total_out_u')\n",
    "total_in_v=nx.get_edge_attributes(G,'total_in_v')\n",
    "signCol=nx.get_edge_attributes(G,'sign')"
   ]
  },
  {
   "cell_type": "code",
   "execution_count": 39,
   "metadata": {},
   "outputs": [
    {
     "data": {
      "text/plain": [
       " 1    425072\n",
       "-1    124130\n",
       "Name: sign, dtype: int64"
      ]
     },
     "execution_count": 39,
     "metadata": {},
     "output_type": "execute_result"
    }
   ],
   "source": [
    "df['edge']=dplus_in_v.keys()\n",
    "df['dplus_in_v']=dplus_in_v.values()\n",
    "df['dminus_in_v']=dminus_in_v.values()\n",
    "df['dplus_out_u']=dplus_out_u.values()\n",
    "df['dminus_out_u']=dminus_out_u.values()\n",
    "df['embed']=embed.values()\n",
    "\n",
    "df['total_out_u']=total_out_u.values()\n",
    "df['total_in_v']=total_in_v.values()\n",
    "\n",
    "\n",
    "\n",
    "df['sign']=signCol.values()\n",
    "\n",
    "df['sign'].value_counts()"
   ]
  },
  {
   "cell_type": "code",
   "execution_count": 52,
   "metadata": {},
   "outputs": [],
   "source": [
    "from sklearn.model_selection import train_test_split\n",
    "X = df.drop(['edge','sign'],axis=1)\n",
    "y = df['sign']\n",
    "\n",
    "X_train,X_test,y_train,y_test = train_test_split(X,y,test_size=0.2,random_state=0)"
   ]
  },
  {
   "cell_type": "code",
   "execution_count": 55,
   "metadata": {},
   "outputs": [],
   "source": [
    "from sklearn.linear_model import LinearRegression\n",
    "from sklearn.neural_network import MLPClassifier\n",
    "from sklearn.linear_model import LogisticRegression"
   ]
  },
  {
   "cell_type": "code",
   "execution_count": 56,
   "metadata": {},
   "outputs": [
    {
     "data": {
      "text/plain": [
       "0.8365455522072814"
      ]
     },
     "execution_count": 56,
     "metadata": {},
     "output_type": "execute_result"
    }
   ],
   "source": [
    "lr = LogisticRegression()\n",
    "lr.fit(X_train,y_train)\n",
    "lr.score(X_test,y_test)"
   ]
  },
  {
   "cell_type": "code",
   "execution_count": 65,
   "metadata": {},
   "outputs": [],
   "source": [
    "from sklearn.svm import SVC\n"
   ]
  },
  {
   "cell_type": "code",
   "execution_count": null,
   "metadata": {},
   "outputs": [],
   "source": [
    "svm = SVC()\n",
    "svm.fit(X_train,y_train)\n",
    "svm.score(X_test,y_test)"
   ]
  },
  {
   "cell_type": "code",
   "execution_count": null,
   "metadata": {},
   "outputs": [],
   "source": [
    "ann = MLPClassifer()\n",
    "ann.fit(X_train,y_train)\n",
    "ann.score(X_test,y_test)"
   ]
  }
 ],
 "metadata": {
  "kernelspec": {
   "display_name": "Python 3",
   "language": "python",
   "name": "python3"
  },
  "language_info": {
   "codemirror_mode": {
    "name": "ipython",
    "version": 3
   },
   "file_extension": ".py",
   "mimetype": "text/x-python",
   "name": "python",
   "nbconvert_exporter": "python",
   "pygments_lexer": "ipython3",
   "version": "3.6.5"
  }
 },
 "nbformat": 4,
 "nbformat_minor": 2
}
