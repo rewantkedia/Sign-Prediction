{
 "cells": [
  {
   "cell_type": "code",
   "execution_count": 58,
   "metadata": {},
   "outputs": [],
   "source": [
    "import pandas as pd\n",
    "import numpy as np\n",
    "import matplotlib.pyplot as plt\n",
    "import seaborn as sns\n",
    "import networkx as nx\n",
    "df = pd.read_csv('slash.txt',sep='\\t')\n"
   ]
  },
  {
   "cell_type": "code",
   "execution_count": 59,
   "metadata": {},
   "outputs": [],
   "source": [
    "G = nx.DiGraph()\n",
    "for index,rows in df.iterrows():\n",
    "    u = rows['FromNodeId']\n",
    "    v = rows['ToNodeId']\n",
    "    s = rows['Sign']\n",
    "    G.add_edge(u,v,sign=s)"
   ]
  },
  {
   "cell_type": "code",
   "execution_count": 134,
   "metadata": {},
   "outputs": [],
   "source": [
    "out_pos = {}\n",
    "out_neg = {}\n",
    "for nodes in G.nodes():\n",
    "    pos = 0\n",
    "    neg = 0\n",
    "    l = dict(G[nodes])\n",
    "    for keys in l:\n",
    "        if(l[keys]['sign'] == 1):\n",
    "            pos += 1\n",
    "        else:\n",
    "            neg += 1\n",
    "    out_pos[nodes] = pos\n",
    "    out_neg[nodes] = neg"
   ]
  },
  {
   "cell_type": "code",
   "execution_count": 63,
   "metadata": {},
   "outputs": [],
   "source": [
    "nx.set_node_attributes(G,out_pos,'out_pos')\n",
    "nx.set_node_attributes(G,out_neg,'out_neg')\n"
   ]
  },
  {
   "cell_type": "code",
   "execution_count": 64,
   "metadata": {},
   "outputs": [],
   "source": [
    "Nodes = G.nodes(data=True)"
   ]
  },
  {
   "cell_type": "code",
   "execution_count": 65,
   "metadata": {},
   "outputs": [],
   "source": [
    "pred_sign = {}\n",
    "for edge in G.edges():\n",
    "    u = edge[0]\n",
    "    if Nodes[u]['out_pos']>= Nodes[u]['out_neg']:\n",
    "        pred_sign[edge] = 1\n",
    "    else:\n",
    "        pred_sign[edge] = -1\n",
    "    \n",
    "    \n",
    "    "
   ]
  },
  {
   "cell_type": "code",
   "execution_count": 66,
   "metadata": {},
   "outputs": [],
   "source": [
    "nx.set_edge_attributes(G, pred_sign, 'out_index_sign')"
   ]
  },
  {
   "cell_type": "code",
   "execution_count": 102,
   "metadata": {},
   "outputs": [],
   "source": [
    "out_index = nx.get_edge_attributes(G,'out_index_sign')\n",
    "sign = nx.get_edge_attributes(G,'sign')\n",
    "embed = nx.get_edge_attributes(G,'embed')\n",
    "\n",
    "df = pd.DataFrame(columns=['edge', \"out_index_sign\", 'sign', 'embed', \"in_index_sign\"])"
   ]
  },
  {
   "cell_type": "code",
   "execution_count": 106,
   "metadata": {},
   "outputs": [],
   "source": [
    "embed = {}\n",
    "for edge in list(G.edges()):\n",
    "    inward_i=[]\n",
    "    inward_j=[]\n",
    "    outward_i=[]\n",
    "    outward_j=[]\n",
    "    for items in list(G.in_edges(edge[0])):\n",
    "        inward_i.append(items[0])\n",
    "    for items in list(G.in_edges(edge[1])):\n",
    "        inward_j.append(items[0])\n",
    "    for keys in dict(G[edge[0]]):\n",
    "        outward_i.append(keys)\n",
    "    for keys in dict(G[edge[1]]):\n",
    "        outward_j.append(keys)\n",
    "    final_i = list(set(inward_i) | set(inward_j))\n",
    "    final_j = list(set(outward_i) | set(outward_j))\n",
    "    final = list(set(final_i) & set(final_j)) \n",
    "    embed[edge] = len(final)\n",
    "    \n",
    "    "
   ]
  },
  {
   "cell_type": "code",
   "execution_count": 107,
   "metadata": {},
   "outputs": [],
   "source": [
    "nx.set_edge_attributes(G, embed, 'embed')"
   ]
  },
  {
   "cell_type": "code",
   "execution_count": 108,
   "metadata": {},
   "outputs": [],
   "source": [
    "df['edge'] = out_index.keys()\n",
    "df['out_index_sign'] = out_index.values()\n",
    "df['sign'] = sign.values()\n",
    "df['embed'] = embed.values()"
   ]
  },
  {
   "cell_type": "code",
   "execution_count": 109,
   "metadata": {},
   "outputs": [],
   "source": [
    "y_pred = df[\"out_index_sign\"]\n",
    "y = df[\"sign\"]"
   ]
  },
  {
   "cell_type": "code",
   "execution_count": 110,
   "metadata": {},
   "outputs": [
    {
     "data": {
      "text/plain": [
       "0.8572055455005626"
      ]
     },
     "execution_count": 110,
     "metadata": {},
     "output_type": "execute_result"
    }
   ],
   "source": [
    "from sklearn.metrics import accuracy_score\n",
    "accuracy_score( y,y_pred)"
   ]
  },
  {
   "cell_type": "code",
   "execution_count": 111,
   "metadata": {},
   "outputs": [],
   "source": [
    "#in edge heuristics\n",
    "in_pos = {}\n",
    "in_neg = {}\n",
    "\n",
    "for nodes in G.nodes():\n",
    "    l = list(G.in_edges(nodes,data=True))\n",
    "    pos=[]\n",
    "    neg=[]\n",
    "    for items in l:\n",
    "        if items[2]['sign'] == 1:\n",
    "            pos.append(items[0])\n",
    "        else:\n",
    "            neg.append(items[0])\n",
    "    in_pos[nodes] = pos\n",
    "    in_neg[nodes] = neg\n",
    "\n",
    "nx.set_node_attributes(G,in_pos,'in_pos')\n",
    "nx.set_node_attributes(G,in_neg,'in_neg')\n",
    "\n"
   ]
  },
  {
   "cell_type": "code",
   "execution_count": 129,
   "metadata": {},
   "outputs": [],
   "source": [
    "pred_sign_in = {}\n",
    "for edge in G.edges():\n",
    "    u = edge[0]\n",
    "    if Nodes[u]['in_pos']>= Nodes[u]['in_neg']:\n",
    "        pred_sign_in[edge] = 1\n",
    "    else:\n",
    "        pred_sign_in[edge] = -1\n",
    "\n",
    "        \n",
    "        \n",
    "nx.set_edge_attributes(G, pred_sign_in, 'in_index')\n"
   ]
  },
  {
   "cell_type": "code",
   "execution_count": 130,
   "metadata": {},
   "outputs": [],
   "source": [
    "in_index = nx.get_edge_attributes(G,'in_index')\n",
    "sign = nx.get_edge_attributes(G,'sign')\n",
    "embed = nx.get_edge_attributes(G,'embed')"
   ]
  },
  {
   "cell_type": "code",
   "execution_count": 131,
   "metadata": {},
   "outputs": [],
   "source": [
    "\n",
    "df['edge'] = in_index.keys()\n",
    "df['in_index_sign'] = in_index.values()\n",
    "df['sign'] = sign.values()\n",
    "df['embed'] = embed.values()"
   ]
  },
  {
   "cell_type": "code",
   "execution_count": 132,
   "metadata": {},
   "outputs": [],
   "source": [
    "y_pred = df[\"in_index_sign\"]\n",
    "y = df[\"sign\"]"
   ]
  },
  {
   "cell_type": "code",
   "execution_count": 133,
   "metadata": {},
   "outputs": [
    {
     "data": {
      "text/plain": [
       "0.5200418061114126"
      ]
     },
     "execution_count": 133,
     "metadata": {},
     "output_type": "execute_result"
    }
   ],
   "source": [
    "from sklearn.metrics import accuracy_score\n",
    "accuracy_score( y,y_pred)"
   ]
  },
  {
   "cell_type": "code",
   "execution_count": null,
   "metadata": {},
   "outputs": [],
   "source": []
  }
 ],
 "metadata": {
  "kernelspec": {
   "display_name": "Python 3",
   "language": "python",
   "name": "python3"
  },
  "language_info": {
   "codemirror_mode": {
    "name": "ipython",
    "version": 3
   },
   "file_extension": ".py",
   "mimetype": "text/x-python",
   "name": "python",
   "nbconvert_exporter": "python",
   "pygments_lexer": "ipython3",
   "version": "3.7.0"
  }
 },
 "nbformat": 4,
 "nbformat_minor": 2
}
